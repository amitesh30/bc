{
 "cells": [
  {
   "cell_type": "code",
   "execution_count": 1,
   "id": "initial_id",
   "metadata": {
    "ExecuteTime": {
     "end_time": "2023-10-19T08:39:02.580039600Z",
     "start_time": "2023-10-19T08:39:02.562267800Z"
    },
    "collapsed": true
   },
   "outputs": [
    {
     "name": "stdout",
     "output_type": "stream",
     "text": [
      "Shortest distance from A to A is 0\n",
      "Shortest distance from A to B is 1\n",
      "Shortest distance from A to C is 3\n",
      "Shortest distance from A to D is 4\n",
      "Shortest path from A to D: A -> B -> C -> D\n"
     ]
    }
   ],
   "source": [
    "import heapq\n",
    "\n",
    "def dijkstra(graph, start):\n",
    "    # Initialize distance and predecessor dictionaries\n",
    "    distance = {vertex: float('infinity') for vertex in graph}\n",
    "    previous = {vertex: None for vertex in graph}\n",
    "    \n",
    "    # Set the distance to the starting node to 0\n",
    "    distance[start] = 0\n",
    "    \n",
    "    # Create a priority queue to store vertices and their distances\n",
    "    priority_queue = [(0, start)]\n",
    "    \n",
    "    while priority_queue:\n",
    "        # Get the vertex with the smallest distance\n",
    "        current_distance, current_vertex = heapq.heappop(priority_queue)\n",
    "        \n",
    "        # If the current distance is greater than the recorded distance, skip\n",
    "        if current_distance > distance[current_vertex]:\n",
    "            continue\n",
    "        \n",
    "        # Explore the neighbors of the current vertex\n",
    "        for neighbor, weight in graph[current_vertex].items():\n",
    "            distance_to_neighbor = distance[current_vertex] + weight\n",
    "            \n",
    "            # If the new distance is shorter, update the distance and predecessor\n",
    "            if distance_to_neighbor < distance[neighbor]:\n",
    "                distance[neighbor] = distance_to_neighbor\n",
    "                previous[neighbor] = current_vertex\n",
    "                heapq.heappush(priority_queue, (distance_to_neighbor, neighbor))\n",
    "    \n",
    "    return distance, previous\n",
    "\n",
    "# Example usage:\n",
    "graph = {\n",
    "    'A': {'B': 1, 'C': 4},\n",
    "    'B': {'A': 1, 'C': 2, 'D': 5},\n",
    "    'C': {'A': 4, 'B': 2, 'D': 1},\n",
    "    'D': {'B': 5, 'C': 1}\n",
    "}\n",
    "\n",
    "start_vertex = 'A'\n",
    "distances, predecessors = dijkstra(graph, start_vertex)\n",
    "\n",
    "# Print the shortest distances from the starting vertex\n",
    "for vertex, distance in distances.items():\n",
    "    print(f\"Shortest distance from {start_vertex} to {vertex} is {distance}\")\n",
    "\n",
    "# Print the shortest path from the starting vertex to a specific vertex\n",
    "end_vertex = 'D'\n",
    "path = []\n",
    "while end_vertex:\n",
    "    path.insert(0, end_vertex)\n",
    "    end_vertex = predecessors[end_vertex]\n",
    "\n",
    "print(f\"Shortest path from {start_vertex} to {path[-1]}: {' -> '.join(path)}\")\n"
   ]
  },
  {
   "cell_type": "code",
   "execution_count": 10,
   "id": "b1100314",
   "metadata": {},
   "outputs": [
    {
     "name": "stdout",
     "output_type": "stream",
     "text": [
      "Shortest distances from A : {'A': 0, 'B': 2, 'C': 9, 'D': 10, 'E': 4, 'F': 6, 'G': 5, 'H': 8}\n",
      "Shortest path from A to G : A -> B -> E -> G\n",
      "Total travel cost:  5\n"
     ]
    }
   ],
   "source": [
    "# Example usage:\n",
    "graph3 = {\n",
    "    'A': {'B': 2, 'G': 6},\n",
    "    'B': {'A': 2, 'C': 7, 'E': 2},\n",
    "    'C': {'B': 7, 'D': 3, 'F': 3},\n",
    "    'D': {'C': 3, 'H': 2},\n",
    "    'E': {'B': 2, 'G': 1, 'F': 2},\n",
    "    'F': {'C': 3, 'H': 2, 'E': 2},\n",
    "    'G': {'A': 6, 'H': 4, 'E': 1},\n",
    "    'H': {'G': 4, 'F': 2, 'D': 2}\n",
    "}\n",
    "\n",
    "start_vertex3 = 'A'\n",
    "distances3, predecessors3 = dijkstra(graph3, start_vertex3)\n",
    "\n",
    "print(\"Shortest distances from\", start_vertex3, \":\", distances3)\n",
    "\n",
    "end_vertex3 = 'G'\n",
    "path3 = []\n",
    "total_cost3 = 0  # Initialize total cost\n",
    "\n",
    "while end_vertex3:\n",
    "    path3.insert(0, end_vertex3)\n",
    "    if predecessors3[end_vertex3]:\n",
    "        total_cost3 += graph3[end_vertex3][predecessors3[end_vertex3]]\n",
    "    end_vertex3 = predecessors3[end_vertex3]\n",
    "\n",
    "print(\"Shortest path from\", start_vertex3, \"to\", path3[-1], \":\", ' -> '.join(path3))\n",
    "print(\"Total travel cost: \", total_cost3)\n"
   ]
  },
  {
   "cell_type": "code",
   "execution_count": 3,
   "id": "c71f61c5c0352bd4",
   "metadata": {
    "ExecuteTime": {
     "end_time": "2023-10-19T08:38:25.005414300Z",
     "start_time": "2023-10-19T08:38:24.979938700Z"
    },
    "collapsed": false
   },
   "outputs": [],
   "source": []
  },
  {
   "cell_type": "code",
   "execution_count": null,
   "id": "94c85a8ca636aaa0",
   "metadata": {
    "collapsed": false
   },
   "outputs": [],
   "source": []
  }
 ],
 "metadata": {
  "kernelspec": {
   "display_name": "Python 3",
   "language": "python",
   "name": "python3"
  },
  "language_info": {
   "codemirror_mode": {
    "name": "ipython",
    "version": 3
   },
   "file_extension": ".py",
   "mimetype": "text/x-python",
   "name": "python",
   "nbconvert_exporter": "python",
   "pygments_lexer": "ipython3",
   "version": "3.11.4"
  }
 },
 "nbformat": 4,
 "nbformat_minor": 5
}
